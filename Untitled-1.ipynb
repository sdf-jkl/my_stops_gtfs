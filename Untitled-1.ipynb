{
 "cells": [
  {
   "cell_type": "code",
   "execution_count": 1,
   "metadata": {},
   "outputs": [],
   "source": [
    "# It's not actually martin project, but the funny next train project"
   ]
  },
  {
   "cell_type": "code",
   "execution_count": 43,
   "metadata": {},
   "outputs": [],
   "source": [
    "from google.transit import gtfs_realtime_pb2\n",
    "import requests\n",
    "from datetime import datetime"
   ]
  },
  {
   "cell_type": "code",
   "execution_count": null,
   "metadata": {},
   "outputs": [],
   "source": [
    "# These look like the only stops that I need:\n",
    "# J28,Chauncey St,40.682893,-73.910456,1,\n",
    "# J28N,Chauncey St,40.682893,-73.910456,,J28\n",
    "# J28S,Chauncey St,40.682893,-73.910456,,J28"
   ]
  },
  {
   "cell_type": "code",
   "execution_count": 52,
   "metadata": {},
   "outputs": [
    {
     "name": "stdout",
     "output_type": "stream",
     "text": [
      "J28N: Train arriving at 03:43:28 PM\n",
      "J28S: Train arriving at 03:47:09 PM\n",
      "J28N: Train arriving at 03:47:58 PM\n",
      "J28N: Train arriving at 03:55:02 PM\n",
      "J28S: Train arriving at 03:57:58 PM\n",
      "J28N: Train arriving at 04:04:58 PM\n",
      "J28S: Train arriving at 04:04:58 PM\n",
      "J28S: Train arriving at 04:14:00 PM\n",
      "J28N: Train arriving at 04:14:00 PM\n",
      "J28S: Train arriving at 04:22:30 PM\n",
      "J28N: Train arriving at 04:22:00 PM\n",
      "J28S: Train arriving at 04:27:30 PM\n",
      "J28N: Train arriving at 04:30:00 PM\n",
      "J28S: Train arriving at 04:34:00 PM\n",
      "J28N: Train arriving at 04:38:00 PM\n",
      "J28S: Train arriving at 04:42:00 PM\n",
      "J28N: Train arriving at 04:46:00 PM\n",
      "J28S: Train arriving at 04:47:30 PM\n",
      "J28N: Train arriving at 04:54:00 PM\n",
      "J28N: Train arriving at 05:02:00 PM\n",
      "J28S: Train arriving at 04:58:00 PM\n",
      "J28S: Train arriving at 04:37:30 PM\n",
      "J28S: Train arriving at 05:02:00 PM\n",
      "J28S: Train arriving at 05:07:30 PM\n",
      "J28N: Train arriving at 05:10:00 PM\n"
     ]
    }
   ],
   "source": [
    "url = \"https://api-endpoint.mta.info/Dataservice/mtagtfsfeeds/nyct%2Fgtfs-jz\"\n",
    "\n",
    "chauncey_stops = {\"J28N\", \"J28S\"}\n",
    "\n",
    "feed = gtfs_realtime_pb2.FeedMessage()\n",
    "response = requests.get(url)\n",
    "feed.ParseFromString(response.content)\n",
    "\n",
    "\n",
    "\n",
    "for entity in feed.entity:\n",
    "    if entity.HasField(\"trip_update\"):\n",
    "        for stop_time in entity.trip_update.stop_time_update:\n",
    "            stop_id = stop_time.stop_id\n",
    "            if stop_time.stop_id in chauncey_stops:\n",
    "                if stop_time.HasField(\"arrival\"):\n",
    "                    arrival_time = datetime.fromtimestamp(stop_time.arrival.time)\n",
    "                    print(f\"{stop_id}: Train arriving at {arrival_time.strftime('%I:%M:%S %p')}\")"
   ]
  }
 ],
 "metadata": {
  "kernelspec": {
   "display_name": "Python 3",
   "language": "python",
   "name": "python3"
  },
  "language_info": {
   "codemirror_mode": {
    "name": "ipython",
    "version": 3
   },
   "file_extension": ".py",
   "mimetype": "text/x-python",
   "name": "python",
   "nbconvert_exporter": "python",
   "pygments_lexer": "ipython3",
   "version": "3.12.7"
  }
 },
 "nbformat": 4,
 "nbformat_minor": 2
}
